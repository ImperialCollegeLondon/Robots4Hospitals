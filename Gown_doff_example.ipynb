{
  "nbformat": 4,
  "nbformat_minor": 0,
  "metadata": {
    "colab": {
      "name": "Gown_doff.ipynb",
      "provenance": [],
      "collapsed_sections": [],
      "authorship_tag": "ABX9TyPYyZZKXromIkeW8kBUIPgj",
      "include_colab_link": true
    },
    "kernelspec": {
      "name": "python3",
      "display_name": "Python 3"
    },
    "language_info": {
      "name": "python"
    }
  },
  "cells": [
    {
      "cell_type": "markdown",
      "metadata": {
        "id": "view-in-github",
        "colab_type": "text"
      },
      "source": [
        "<a href=\"https://colab.research.google.com/github/ap8718/Robots4Hospitals/blob/main/Gown_doff_example.ipynb\" target=\"_parent\"><img src=\"https://colab.research.google.com/assets/colab-badge.svg\" alt=\"Open In Colab\"/></a>"
      ]
    },
    {
      "cell_type": "code",
      "metadata": {
        "id": "md4frw6_nTHh"
      },
      "source": [
        "!git clone https://github.com/ap8718/Robots4Hospitals\n",
        "%cd Robots4Hospitals"
      ],
      "execution_count": null,
      "outputs": []
    },
    {
      "cell_type": "code",
      "metadata": {
        "id": "79Fk-_xso8HA"
      },
      "source": [
        "!pip install -r requirements_gpu.txt"
      ],
      "execution_count": null,
      "outputs": []
    },
    {
      "cell_type": "code",
      "metadata": {
        "id": "Ovx066XkqEOQ"
      },
      "source": [
        "%cd FinalCode/Gown_doff"
      ],
      "execution_count": null,
      "outputs": []
    },
    {
      "cell_type": "code",
      "metadata": {
        "id": "lx37y9agqmhk"
      },
      "source": [
        "!python3 gownDoffing.py"
      ],
      "execution_count": null,
      "outputs": []
    }
  ]
}